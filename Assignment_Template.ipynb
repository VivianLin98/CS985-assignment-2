{
  "nbformat": 4,
  "nbformat_minor": 0,
  "metadata": {
    "colab": {
      "name": "Assignment-Template.ipynb",
      "provenance": [],
      "collapsed_sections": [],
      "include_colab_link": true
    },
    "kernelspec": {
      "name": "python3",
      "display_name": "Python 3"
    }
  },
  "cells": [
    {
      "cell_type": "markdown",
      "metadata": {
        "id": "view-in-github",
        "colab_type": "text"
      },
      "source": [
        "<a href=\"https://colab.research.google.com/github/VivianLin98/CS985-assignment-2/blob/main/Assignment_Template.ipynb\" target=\"_parent\"><img src=\"https://colab.research.google.com/assets/colab-badge.svg\" alt=\"Open In Colab\"/></a>"
      ]
    },
    {
      "cell_type": "markdown",
      "metadata": {
        "id": "HRiNtQlSQEbT"
      },
      "source": [
        "## Overview and Abstract\n",
        "- Your team’s name\n",
        "- Your team’s names and student numbers and class number\n",
        "\n",
        "\n",
        "- Specify the task\n",
        "- Briefly describe what you did\n",
        "- Provide a summary of your main findings"
      ]
    },
    {
      "cell_type": "markdown",
      "metadata": {
        "id": "xJS3BvX-QE-u"
      },
      "source": [
        "# Method\n",
        "- Describe the data processing, feature extraction, etc. performed (and why it was performed) \n",
        "  - Alldata/feature processing code should be in another notebook(and\n",
        "linked here)\n",
        "- Describe the baseline model to be used (and why it was selected)\n",
        "- Describe each neural model configuration / setup that will be used.\n",
        " - For each model define the class that will beused in your experiments.\n",
        "- Describe the training schedule and approach that you undertook.\n",
        "  - Define the functions that will help you to perform the training schedule\n",
        "- Describe any other things that you did or tried in order to improve performance"
      ]
    },
    {
      "cell_type": "code",
      "metadata": {
        "id": "4wPdQuBPP_CK"
      },
      "source": [
        "# Include your packages/imports here.\n",
        "\n",
        "# Add your models here\n",
        "\n",
        "# Add your functions for training here\n"
      ],
      "execution_count": null,
      "outputs": []
    },
    {
      "cell_type": "markdown",
      "metadata": {
        "id": "6G-NyuSQQFW4"
      },
      "source": [
        "# Results and Discussion\n",
        "- Present your findings for each of the approaches tried.\n",
        "- Create a table that lists the approaches and the training and testing performances (along\n",
        "with relevant parameter settings).\n",
        "- Explain your findings, what worked, what didn’t, and why? Which features were the most\n",
        "important? When does the model fail? Etc.?\n"
      ]
    },
    {
      "cell_type": "markdown",
      "metadata": {
        "id": "sHtixmddRSAQ"
      },
      "source": [
        "# Summary and Recommendation\n",
        "\n",
        "- Provide a recommendation of which approach(s) should be used/considered and the pro’s and con’s of the approach. i.e. should the company use a particular model, and if so what are the caveats?"
      ]
    },
    {
      "cell_type": "markdown",
      "metadata": {
        "id": "1Qh9x2K_RW_P"
      },
      "source": [
        "# References\n",
        "\n",
        "- List relevant references and resources"
      ]
    },
    {
      "cell_type": "markdown",
      "metadata": {
        "id": "DXtZ3k88RZ9o"
      },
      "source": [
        "# Code\n",
        "\n",
        "Feature Processing\n",
        "- Report how your processed the data here or in a separate notebook (provide link if a separate notebook is used).\n",
        "\n",
        "Training and Validating etc.\n",
        "- Show your working here – where you report all your training and validation, etc. that you performed in order to get the results.\n",
        "- Note that it is important that you results can be replicated. All code to reproduce the final predictions must be included, along with any code that justifies your choices.\n",
        "\n",
        "Any Additional Analysis\n",
        "- Add in any additional analysis etc that you performed here."
      ]
    },
    {
      "cell_type": "code",
      "metadata": {
        "id": "1M6W86ZFR0yI"
      },
      "source": [
        "### Put your code here that uses the models, etc, defined above.\n"
      ],
      "execution_count": null,
      "outputs": []
    }
  ]
}